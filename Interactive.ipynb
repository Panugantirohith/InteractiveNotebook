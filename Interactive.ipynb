{
 "cells": [
  {
   "cell_type": "code",
   "execution_count": 57,
   "id": "874d710f-3172-4713-9286-ba827478202a",
   "metadata": {},
   "outputs": [],
   "source": [
    "import pandas as pd\n",
    "import numpy as np\n",
    "import matplotlib.pyplot as plt\n",
    "\n",
    "import warnings\n",
    "warnings.filterwarnings('ignore')\n",
    "\n",
    "#to display all rows columns \n",
    "pd.set_option('display.max_rows', None)\n",
    "pd.set_option('display.max_columns', None)  \n",
    "pd.set_option('display.expand_frame_repr', False)\n",
    "pd.set_option('max_colwidth', None)"
   ]
  },
  {
   "cell_type": "code",
   "execution_count": 58,
   "id": "10f2fbda-c08f-416f-8bc6-99cddd291e2e",
   "metadata": {},
   "outputs": [],
   "source": [
    "df = pd.read_csv(r\"C:\\Users\\rohit\\Downloads\\ipl_csv2\\latest_ipl_data.csv\")"
   ]
  },
  {
   "cell_type": "code",
   "execution_count": 59,
   "id": "ef2d1f24-b89e-4615-9093-93b6d74e8ea7",
   "metadata": {},
   "outputs": [],
   "source": [
    "# df.head()"
   ]
  },
  {
   "cell_type": "code",
   "execution_count": 60,
   "id": "fbdbec4b-0f92-48c7-81cf-7b220147607c",
   "metadata": {},
   "outputs": [],
   "source": [
    "df['total_runs'] = df['runs_off_bat'] + df['extras']"
   ]
  },
  {
   "cell_type": "code",
   "execution_count": 61,
   "id": "e41885ca-b9bd-45f2-8001-c29ada7e0935",
   "metadata": {},
   "outputs": [],
   "source": [
    "# df.head()"
   ]
  },
  {
   "cell_type": "code",
   "execution_count": 62,
   "id": "ff3b372c-2c9e-4fc1-b1f5-db61f05521bc",
   "metadata": {},
   "outputs": [],
   "source": [
    "# df.innings.unique()"
   ]
  },
  {
   "cell_type": "code",
   "execution_count": 63,
   "id": "2619b242-b886-402e-a99a-21358280bc57",
   "metadata": {},
   "outputs": [],
   "source": [
    "df = df[(df.innings == 1) | (df.innings == 2)]"
   ]
  },
  {
   "cell_type": "code",
   "execution_count": 64,
   "id": "89909301-ac31-4074-bc66-f802d6c3605a",
   "metadata": {},
   "outputs": [],
   "source": [
    "df['player_dismissed'] = df['player_dismissed'].fillna(0)"
   ]
  },
  {
   "cell_type": "code",
   "execution_count": 65,
   "id": "34b72a13-eee9-4d4c-ac07-600c61a43303",
   "metadata": {},
   "outputs": [],
   "source": [
    "# df.head()"
   ]
  },
  {
   "cell_type": "code",
   "execution_count": 66,
   "id": "3e4d1d19-4945-466e-a79d-f4a0c7ca178b",
   "metadata": {},
   "outputs": [],
   "source": [
    "df['wicket'] = np.where(df['player_dismissed'] == 0,0,1)"
   ]
  },
  {
   "cell_type": "code",
   "execution_count": 67,
   "id": "e4d52947-c724-4f74-a7d5-87d75b15ef2a",
   "metadata": {},
   "outputs": [],
   "source": [
    "# df.head()"
   ]
  },
  {
   "cell_type": "code",
   "execution_count": 68,
   "id": "8fb0ad5f-4619-4590-89a6-c7b1587b736e",
   "metadata": {},
   "outputs": [],
   "source": [
    "# df.batting_team.unique()"
   ]
  },
  {
   "cell_type": "code",
   "execution_count": 69,
   "id": "cdf3ff3b-fb36-4b5e-adf4-509e7f4439e6",
   "metadata": {},
   "outputs": [],
   "source": [
    "t1 = 'Gujarat Titans'\n",
    "t2 = 'Chennai Super Kings'"
   ]
  },
  {
   "cell_type": "code",
   "execution_count": 70,
   "id": "f541527c-d4b4-4e69-9be0-3f3c3983a5ce",
   "metadata": {},
   "outputs": [],
   "source": [
    "t1_outcomes_count = df[df['batting_team'] == t1]['runs_off_bat'].value_counts()\n",
    "t2_outcomes_count = df[df['batting_team'] == t2]['runs_off_bat'].value_counts()"
   ]
  },
  {
   "cell_type": "code",
   "execution_count": 71,
   "id": "3897d0a7-8d0e-45bf-80f2-97595191e3d8",
   "metadata": {},
   "outputs": [],
   "source": [
    "# t1_outcomes_count"
   ]
  },
  {
   "cell_type": "code",
   "execution_count": 72,
   "id": "52586c6b-8b36-49b7-a8e1-86dd5d844f4b",
   "metadata": {},
   "outputs": [],
   "source": [
    "# t2_outcomes_count\n"
   ]
  },
  {
   "cell_type": "code",
   "execution_count": 73,
   "id": "ff3e8f79-a659-45dd-bab7-b1fe3986a14e",
   "metadata": {},
   "outputs": [],
   "source": [
    "t1_outs = df[df['batting_team']== t1]['wicket'].sum()\n",
    "t2_outs = df[df['batting_team']== t2]['wicket'].sum()"
   ]
  },
  {
   "cell_type": "code",
   "execution_count": 74,
   "id": "265841e1-7d7d-4c43-b494-a65d510ba9a7",
   "metadata": {},
   "outputs": [],
   "source": [
    "# t1_outs"
   ]
  },
  {
   "cell_type": "code",
   "execution_count": 75,
   "id": "c792a92a-85d8-4677-8178-7d2886c29c42",
   "metadata": {},
   "outputs": [],
   "source": [
    "outcomes = [0,1,2,3,4,6,'w']"
   ]
  },
  {
   "cell_type": "code",
   "execution_count": 76,
   "id": "82247c59-0b1c-423c-ae01-2c6382f1acd1",
   "metadata": {},
   "outputs": [],
   "source": [
    "t1_outcomes = []\n",
    "t2_outcomes = []\n",
    "\n",
    "\n",
    "for outcome in outcomes:\n",
    "    if outcome!= 'w':\n",
    "        t1_outcomes.append(t1_outcomes_count[outcome])\n",
    "        t2_outcomes.append(t2_outcomes_count[outcome])\n",
    "    else:\n",
    "        t1_outcomes.append(t1_outs)\n",
    "        t2_outcomes.append(t2_outs)\n",
    "        "
   ]
  },
  {
   "cell_type": "code",
   "execution_count": 77,
   "id": "4989d539-731f-493e-9f3c-92be8c9dc7c4",
   "metadata": {},
   "outputs": [],
   "source": [
    "# t1_outcomes"
   ]
  },
  {
   "cell_type": "code",
   "execution_count": 78,
   "id": "cb937c47-43be-4f3b-b5ce-fd33fb4b476a",
   "metadata": {},
   "outputs": [],
   "source": [
    "t1_prob_ls = pd.Series([i/sum(t1_outcomes) for i in  t1_outcomes])"
   ]
  },
  {
   "cell_type": "code",
   "execution_count": 79,
   "id": "1cdeef29-26c2-445a-8dbf-451de6ee08e7",
   "metadata": {},
   "outputs": [],
   "source": [
    "# t1_prob_ls"
   ]
  },
  {
   "cell_type": "code",
   "execution_count": 80,
   "id": "37ed18ce-18d0-445d-b903-ae2f4367c650",
   "metadata": {},
   "outputs": [],
   "source": [
    "t2_prob_ls = pd.Series([i/sum(t2_outcomes) for i in  t2_outcomes])"
   ]
  },
  {
   "cell_type": "code",
   "execution_count": 81,
   "id": "e340c47f-e00c-4633-aa4b-5faae243361f",
   "metadata": {},
   "outputs": [],
   "source": [
    "t1_ls = t1_prob_ls.cumsum()"
   ]
  },
  {
   "cell_type": "code",
   "execution_count": 82,
   "id": "bc218063-f7a9-460f-8505-e43afa7b480c",
   "metadata": {},
   "outputs": [],
   "source": [
    "# t1_ls"
   ]
  },
  {
   "cell_type": "code",
   "execution_count": 83,
   "id": "29c21b6f-d2df-40ff-98a8-a7264af5738b",
   "metadata": {},
   "outputs": [],
   "source": [
    "t2_ls = t2_prob_ls.cumsum()"
   ]
  },
  {
   "cell_type": "code",
   "execution_count": 84,
   "id": "07f3c584-388f-4926-bc41-ac1898d64975",
   "metadata": {},
   "outputs": [],
   "source": [
    "# t2_ls"
   ]
  },
  {
   "cell_type": "code",
   "execution_count": 85,
   "id": "05214052-d516-461c-ac04-4167124dee83",
   "metadata": {},
   "outputs": [],
   "source": [
    "# df[(df['batting_team'] == t1) & (df['bowling_team'] == t2) & (df['innings'] == 1)].match_id.unique()"
   ]
  },
  {
   "cell_type": "code",
   "execution_count": 86,
   "id": "bdfb38a3-cff5-495c-ae6d-388e1c333e32",
   "metadata": {},
   "outputs": [],
   "source": [
    "matchID = 1370353"
   ]
  },
  {
   "cell_type": "code",
   "execution_count": 87,
   "id": "9ded888f-b471-461f-81d1-09b6f6c704b4",
   "metadata": {},
   "outputs": [],
   "source": [
    "mdf = df[df['match_id'] == matchID]\n",
    "# mdf.tail()"
   ]
  },
  {
   "cell_type": "code",
   "execution_count": 88,
   "id": "218f7dd9-5d8e-4b6a-b530-9e41fd4edc42",
   "metadata": {},
   "outputs": [],
   "source": [
    "df_ing1 = mdf[mdf['innings'] == 1]\n",
    "df_ing2 = mdf[mdf['innings'] == 2]"
   ]
  },
  {
   "cell_type": "code",
   "execution_count": 89,
   "id": "f34eb0ee-3a2a-4ee0-a734-866257cc6008",
   "metadata": {},
   "outputs": [],
   "source": [
    "df_ing1.reset_index(inplace=True,drop=True)\n",
    "df_ing2.reset_index(inplace=True,drop=True)"
   ]
  },
  {
   "cell_type": "code",
   "execution_count": 90,
   "id": "2fcb6c15-7930-49b4-bf36-ad1f77cd8cd7",
   "metadata": {},
   "outputs": [],
   "source": [
    "# df_ing2.head()"
   ]
  },
  {
   "cell_type": "code",
   "execution_count": 91,
   "id": "07fcda62-d83a-4ce1-81b7-0582a392ac9a",
   "metadata": {},
   "outputs": [],
   "source": [
    "# len(df_ing2)"
   ]
  },
  {
   "cell_type": "code",
   "execution_count": 92,
   "id": "bb82595e-dea2-4447-b695-6c5ca33d3a65",
   "metadata": {},
   "outputs": [],
   "source": [
    "over_ball = 19.5\n",
    "over_no = int(str(over_ball).split('.')[0])\n",
    "ball_no = int(str(over_ball).split('.')[1])"
   ]
  },
  {
   "cell_type": "code",
   "execution_count": 93,
   "id": "2d887a89-b435-4045-af61-dec32aa5c877",
   "metadata": {},
   "outputs": [],
   "source": [
    "    i1p_0 = t1_ls[0]\n",
    "    i1p_1 = t1_ls[1]\n",
    "    i1p_2 = t1_ls[2]\n",
    "    i1p_3 = t1_ls[3]\n",
    "    i1p_4 = t1_ls[4]\n",
    "    i1p_6 = t1_ls[5]\n",
    "    i1p_w = t1_ls[6]\n",
    "\n"
   ]
  },
  {
   "cell_type": "code",
   "execution_count": 94,
   "id": "99bd3769-5bf7-4952-88fb-278ffa26143b",
   "metadata": {},
   "outputs": [],
   "source": [
    "# i1p_w\n"
   ]
  },
  {
   "cell_type": "code",
   "execution_count": 95,
   "id": "a65039c5-45ce-4092-9ab7-a538ff85a364",
   "metadata": {},
   "outputs": [],
   "source": [
    "def ing1_runs(curr_score,curr_wks,at_overs):\n",
    "    pred_runs = curr_score\n",
    "    pred_wks = curr_wks\n",
    "    over_ball = at_overs\n",
    "    over_no = int(str(over_ball).split('.')[0])\n",
    "    ball_no = int(str(over_ball).split('.')[1])\n",
    "    leftover_balls = len(df_ing1) - (over_no*6 + ball_no)\n",
    "    #leftover_wks = 10-curr_wks\n",
    "\n",
    "    i1p_0 = t1_ls[0]\n",
    "    i1p_1 = t1_ls[1]\n",
    "    i1p_2 = t1_ls[2]\n",
    "    i1p_3 = t1_ls[3]\n",
    "    i1p_4 = t1_ls[4]\n",
    "    i1p_6 = t1_ls[5]\n",
    "    i1p_w = t1_ls[6]\n",
    "\n",
    "    for i in range(leftover_balls):\n",
    "        r_value = np.random.random()\n",
    "        if r_value <= i1p_0:\n",
    "            pred_runs += 0\n",
    "        elif r_value <= i1p_1:\n",
    "            pred_runs += 1\n",
    "        elif r_value <= i1p_2:\n",
    "            pred_runs += 2\n",
    "        elif r_value <= i1p_3:\n",
    "            pred_runs += 3\n",
    "        elif r_value <= i1p_4:\n",
    "            pred_runs += 4\n",
    "        elif r_value <= i1p_6:\n",
    "            pred_runs += 6\n",
    "        else:\n",
    "            pred_runs += 0\n",
    "            pred_wks += 1\n",
    "            \n",
    "            if pred_wks == 10:\n",
    "                break\n",
    "        #if pred_wks == 10:\n",
    "                    #break       \n",
    "\n",
    "    return(pred_runs)\n",
    "            \n",
    "                \n",
    "                \n",
    "                \n"
   ]
  },
  {
   "cell_type": "code",
   "execution_count": 96,
   "id": "5f2ca687-d187-4b3d-8a89-9b62dc2ad62d",
   "metadata": {},
   "outputs": [],
   "source": [
    "# ing1_runs(50,2,5.1)"
   ]
  },
  {
   "cell_type": "code",
   "execution_count": 97,
   "id": "59f34b1c-f064-4302-a415-91d18ed7425f",
   "metadata": {},
   "outputs": [],
   "source": [
    "curr_score = 0\n",
    "curr_wickets = 0\n",
    "curr_overs = 0.0\n",
    "\n",
    "ing1_runs_pred = []\n",
    "\n",
    "for i in range(len(df_ing1)):\n",
    "    curr_score += df_ing1.total_runs[i]\n",
    "    curr_wickets += df_ing1.wicket[i]\n",
    "    curr_overs = df_ing1.ball[i]\n",
    "    \n",
    "    prediction = ing1_runs(curr_score, curr_wickets, curr_overs)\n",
    "    ing1_runs_pred.append(prediction)"
   ]
  },
  {
   "cell_type": "code",
   "execution_count": 98,
   "id": "2c1401db-1822-48f8-b6fd-45dfdc31b075",
   "metadata": {},
   "outputs": [],
   "source": [
    "#ing1_runs_pred"
   ]
  },
  {
   "cell_type": "code",
   "execution_count": 99,
   "id": "8e55d9ae-1036-4807-a51b-b365888b08ff",
   "metadata": {},
   "outputs": [],
   "source": [
    "actual_score = df_ing1['total_runs'].sum()"
   ]
  },
  {
   "cell_type": "code",
   "execution_count": 100,
   "id": "6f1ecc4c-06e7-4664-a1e2-16a0fdffa88b",
   "metadata": {},
   "outputs": [],
   "source": [
    "# x = [i for i in range(len(df_ing1))]\n",
    "# y = ing1_runs_pred\n",
    "# plt.figure(figsize = (16,6))\n",
    "# plt.scatter(x,y)\n",
    "# plt.ylim(0,actual_score +30)\n",
    "# plt.axhline(204,ls= '--')\n",
    "# plt.text(0,204,f'actual score:{actual_score}')"
   ]
  },
  {
   "cell_type": "code",
   "execution_count": 101,
   "id": "4ff1d91c-8ef8-4a0f-a499-fe8a01b03b31",
   "metadata": {},
   "outputs": [],
   "source": [
    "df_ing2['cum_runs'] = df_ing2['total_runs'].cumsum()"
   ]
  },
  {
   "cell_type": "code",
   "execution_count": 102,
   "id": "342c1264-3fad-40f4-b548-fcc9f7b93207",
   "metadata": {},
   "outputs": [],
   "source": [
    "# df_ing2.head()"
   ]
  },
  {
   "cell_type": "code",
   "execution_count": 103,
   "id": "baa12fc7-9021-4bb4-9f56-172b95b2e9f0",
   "metadata": {},
   "outputs": [],
   "source": [
    "# sum(df_ing1['total_runs'])"
   ]
  },
  {
   "cell_type": "code",
   "execution_count": 104,
   "id": "4fd73d12-7fce-4836-a15c-7a04a86638f3",
   "metadata": {},
   "outputs": [],
   "source": [
    "def ing2_runs(curr_score,curr_wks,at_overs,target):\n",
    "    pred_runs = curr_score\n",
    "    pred_wks = curr_wks\n",
    "    over_ball = at_overs\n",
    "    over_no = int(str(over_ball).split('.')[0])\n",
    "    # ball_no = int(str(over_ball).split('.')[1])\n",
    "    leftover_balls = len(df_ing2) - (over_no*6)\n",
    "    #leftover_wks = 10-curr_wks\n",
    "\n",
    "    i1p_0 = t1_ls[0]\n",
    "    i1p_1 = t1_ls[1]\n",
    "    i1p_2 = t1_ls[2]\n",
    "    i1p_3 = t1_ls[3]\n",
    "    i1p_4 = t1_ls[4]\n",
    "    i1p_6 = t1_ls[5]\n",
    "    i1p_w = t1_ls[6]\n",
    "\n",
    "    for i in range(leftover_balls):\n",
    "        r_value = np.random.random()\n",
    "        if r_value <= i1p_0:\n",
    "            pred_runs += 0\n",
    "        elif r_value <= i1p_1:\n",
    "            pred_runs += 1\n",
    "        elif r_value <= i1p_2:\n",
    "            pred_runs += 2\n",
    "        elif r_value <= i1p_3:\n",
    "            pred_runs += 3\n",
    "        elif r_value <= i1p_4:\n",
    "            pred_runs += 4\n",
    "        elif r_value <= i1p_6:\n",
    "            pred_runs += 6\n",
    "        else:\n",
    "            pred_runs += 0\n",
    "            pred_wks += 1\n",
    "            \n",
    "            if pred_wks == 10:\n",
    "                break\n",
    "        if pred_runs > target:\n",
    "            break       \n",
    "\n",
    "    return(pred_runs)\n",
    "            \n",
    "                \n",
    "                \n",
    "                \n"
   ]
  },
  {
   "cell_type": "code",
   "execution_count": 105,
   "id": "655c1ecb-7a68-4a6c-8e8a-d12f82ac3dcc",
   "metadata": {},
   "outputs": [],
   "source": [
    "# ing2_runs(87,1,6.1,204)"
   ]
  },
  {
   "cell_type": "code",
   "execution_count": 106,
   "id": "9f7d445b-12a3-4f02-b562-bdecdcc4153d",
   "metadata": {},
   "outputs": [],
   "source": [
    "def win_game(pred_runs,target):\n",
    "    if pred_runs > target:\n",
    "        return 'win'\n",
    "    elif pred_runs == target:\n",
    "        return 'tie'\n",
    "    else:\n",
    "        return 'lose'"
   ]
  },
  {
   "cell_type": "code",
   "execution_count": 107,
   "id": "64697fb5-40c1-4ce8-b8d7-6f7ccf79471a",
   "metadata": {},
   "outputs": [],
   "source": [
    "def find_runs(curr_score,curr_wks,at_overs,target):\n",
    "    req_runs = []\n",
    "    win_ls = []\n",
    "    #pred_runs_ls = []\n",
    "    #results_ls = []\n",
    "    \n",
    "    \n",
    "    for i in range(curr_score,target+1):\n",
    "\n",
    "\n",
    "        win_count = 0\n",
    "        lose_count= 0\n",
    "        tie_count =0\n",
    "        \n",
    "        for j in range(100):\n",
    "            pred_runs = ing2_runs(i,curr_wks,at_overs,target)\n",
    "            #pred_runs_ls.append(pred_runs)\n",
    "            results_pred = win_game(pred_runs,target)\n",
    "            #results_ls.append(results_pred)\n",
    "            if results_pred == 'win':\n",
    "                win_count += 1\n",
    "            elif results_pred == 'tie':\n",
    "                tie_count += 1\n",
    "            else:\n",
    "                 lose_count += 1\n",
    "            win_ls.append(win_count)\n",
    "            req_runs.append(i)\n",
    "    required_runs = curr_score\n",
    "    for i in range(len(req_runs)):\n",
    "        if win_ls[i] >= 50:\n",
    "            required_runs = req_runs[i]\n",
    "            # print('Runs to be: ', req_runs[i])\n",
    "            break\n",
    "        if at_overs == 15:\n",
    "            required_runs = target\n",
    "            break\n",
    "        if at_overs == 0:\n",
    "             required_runs = curr_score + 1\n",
    "             break\n",
    "            #elif win == 'tie':\n",
    "    return(required_runs)\n",
    "    "
   ]
  },
  {
   "cell_type": "code",
   "execution_count": 108,
   "id": "35b0a7d8-0437-4390-832c-c2e302bcb49f",
   "metadata": {},
   "outputs": [],
   "source": [
    "# find_runs(0,1,0,167)"
   ]
  },
  {
   "cell_type": "code",
   "execution_count": 109,
   "id": "f425c6d0-3e52-4f8a-afff-7e55fa7e0763",
   "metadata": {},
   "outputs": [],
   "source": [
    "def find_wickets(curr_score,curr_wks,at_overs,target):\n",
    "\n",
    "    req_wicket = []\n",
    "    win_ls = []\n",
    "\n",
    "    for i in range(curr_wks,10):\n",
    "        win_count = 0\n",
    "        tie_count = 0\n",
    "        lose_count = 0\n",
    "\n",
    "        for j in range(100):\n",
    "            pred_runs = ing2_runs(curr_score,i,at_overs,target)\n",
    "            #pred_runs_ls.append(pred_runs)\n",
    "            results_pred = win_game(pred_runs,target)\n",
    "\n",
    "            if results_pred == 'win':\n",
    "                win_count += 1\n",
    "            elif results_pred == 'tie':\n",
    "                tie_count += 1\n",
    "            else:\n",
    "                lose_count += 1\n",
    "        win_ls.append(win_count)\n",
    "        req_wicket.append(i)\n",
    "\n",
    "        required_wicket = curr_wks\n",
    "        for i in range(len(req_wicket)):\n",
    "            if win_ls[i] < 45:\n",
    "                required_wicket = req_wicket[i]\n",
    "                break\n",
    "    return required_wicket       \n",
    "    "
   ]
  },
  {
   "cell_type": "code",
   "execution_count": 110,
   "id": "ff69a3d3-c686-441d-9d05-39a0a1230bc7",
   "metadata": {},
   "outputs": [],
   "source": [
    "# find_wickets(159,1,15.1,167)"
   ]
  },
  {
   "cell_type": "code",
   "execution_count": 111,
   "id": "1a30a607-270f-48cf-8f8f-88f138445de5",
   "metadata": {},
   "outputs": [],
   "source": [
    "%matplotlib inline\n",
    "import ipywidgets as widgets\n",
    "from ipywidgets import interactive\n",
    "import matplotlib.pyplot as plt\n",
    "import numpy as np\n",
    "\n",
    "def find_runs_wickets(curr_score,curr_wks,at_overs,target):\n",
    "   plt.figure(figsize = (16, 6))\n",
    "    #x = np.linspace(-10, 10, num=1000)\n",
    "   x = np.array(list(range(21)))\n",
    "   req_value = find_runs(curr_score,curr_wks,at_overs,target)\n",
    "   req_wk_value = find_wickets(curr_score,curr_wks,at_overs,target)\n",
    "\n",
    "    \n",
    "    # print(req_value)\n",
    "    #y = np.array([req_value for i in range(21)])\n",
    "\n",
    "    # plt.plot(x, current_overs * x + target_score)\n",
    "    # plt.plot(x, y)\n",
    "   plt.scatter(at_overs,req_value, s = 1200, color = 'red')\n",
    "   plt.axhline(target,ls='--',c='b')\n",
    "   plt.text(at_overs,req_value,f'{req_value}' + '/' + f'{req_wk_value}',ha='center',va = 'center')\n",
    "   plt.text(at_overs,req_value-17,f'CSK needed to be {req_value}/{req_wk_value} after {at_overs} overs',ha='center',va = 'center')\n",
    "   plt.text(3,target+10,f'CSK target :{target}',fontsize=15)\n",
    "   plt.xticks(x)\n",
    "   plt.ylim(0,target+50)\n",
    "   plt.title('IPL Final 2023 : CSK VS GT' ,fontsize=20) \n",
    "   plt.xlabel('Overs',fontsize=15)\n",
    "   plt.ylabel('Runs',fontsize=15) \n",
    "   plt.show() \n",
    "   \n"
   ]
  },
  {
   "cell_type": "code",
   "execution_count": 112,
   "id": "fef36e7c-f69f-46a4-9dc9-991895f01ec0",
   "metadata": {},
   "outputs": [
    {
     "data": {
      "application/vnd.jupyter.widget-view+json": {
       "model_id": "e6559a16519d468ab2c79887e1dfd6bf",
       "version_major": 2,
       "version_minor": 0
      },
      "text/plain": [
       "interactive(children=(IntSlider(value=1, description='curr_score', max=250, min=1), IntSlider(value=1, descrip…"
      ]
     },
     "execution_count": 112,
     "metadata": {},
     "output_type": "execute_result"
    }
   ],
   "source": [
    "interactive_plot = interactive(find_runs_wickets,curr_score = widgets.IntSlider(min=1,max=250,step=1,value=0), curr_wks = widgets.IntSlider(min=0, max=10, step=1, value=1),  at_overs=widgets.IntSlider(min=3, max=15, step=1, value=10), target = widgets.IntSlider(min=0, max=250, step=1, value=130))\n",
    "output = interactive_plot.children[-1]\n",
    "output.layout.height = '500px'\n",
    "interactive_plot"
   ]
  },
  {
   "cell_type": "code",
   "execution_count": null,
   "id": "2a8d85aa-8425-4287-91df-714b667282bb",
   "metadata": {},
   "outputs": [],
   "source": []
  },
  {
   "cell_type": "code",
   "execution_count": null,
   "id": "65ce2678-9774-4b72-85e4-1e9d1ada4880",
   "metadata": {},
   "outputs": [],
   "source": []
  },
  {
   "cell_type": "code",
   "execution_count": null,
   "id": "bbccbe98-9bc3-45e6-a65a-02fc9f504ff9",
   "metadata": {},
   "outputs": [],
   "source": []
  },
  {
   "cell_type": "code",
   "execution_count": null,
   "id": "c3000c55-7bf7-4f36-9f4e-565c46955976",
   "metadata": {},
   "outputs": [],
   "source": []
  }
 ],
 "metadata": {
  "kernelspec": {
   "display_name": "Python 3 (ipykernel)",
   "language": "python",
   "name": "python3"
  },
  "language_info": {
   "codemirror_mode": {
    "name": "ipython",
    "version": 3
   },
   "file_extension": ".py",
   "mimetype": "text/x-python",
   "name": "python",
   "nbconvert_exporter": "python",
   "pygments_lexer": "ipython3",
   "version": "3.13.1"
  }
 },
 "nbformat": 4,
 "nbformat_minor": 5
}
